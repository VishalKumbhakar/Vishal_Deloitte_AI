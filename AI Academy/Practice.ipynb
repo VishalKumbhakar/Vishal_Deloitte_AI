{
 "cells": [
  {
   "cell_type": "code",
   "execution_count": 14,
   "id": "a424005e",
   "metadata": {},
   "outputs": [],
   "source": [
    "class Calculator():\n",
    "    def __init__(self):\n",
    "        self.name = self\n",
    "    def add(self,num1,num2):\n",
    "        return num1+num2\n",
    "    def diff(self,num1,num2):\n",
    "        return num1-num2\n",
    "    def mul(self,num1,num2):\n",
    "        return num1*num2\n",
    "    def div(self,num1,num2):\n",
    "        return num1/num2"
   ]
  },
  {
   "cell_type": "code",
   "execution_count": 15,
   "id": "1169316a",
   "metadata": {},
   "outputs": [],
   "source": [
    "cal = Calculator()"
   ]
  },
  {
   "cell_type": "code",
   "execution_count": 18,
   "id": "1a1691af",
   "metadata": {},
   "outputs": [
    {
     "data": {
      "text/plain": [
       "3"
      ]
     },
     "execution_count": 18,
     "metadata": {},
     "output_type": "execute_result"
    }
   ],
   "source": [
    "cal.add(1,2)"
   ]
  },
  {
   "cell_type": "code",
   "execution_count": 43,
   "id": "e21b8f6f",
   "metadata": {},
   "outputs": [],
   "source": [
    "import string\n",
    "# To check validity of password\n",
    "def password_check(password):\n",
    "    length_status, upper_status, lower_status, special_status, number_status = False, False, False, False, False\n",
    "    if len(password)>=8: # length check\n",
    "        length_status = True\n",
    "    for char in password: # upper case check\n",
    "        if char in string.ascii_uppercase:\n",
    "            upper_status = True\n",
    "            break\n",
    "    for char in password: # lower case check\n",
    "        if char in string.ascii_lowercase:\n",
    "            lower_status = True\n",
    "            break\n",
    "    for char in password: # special character check\n",
    "        if char in \"~!@#$%^&*()\":\n",
    "            special_status = True\n",
    "            break\n",
    "    for char in password: # number check\n",
    "        if char in string.digits:\n",
    "            number_status = True\n",
    "            break \n",
    "    if all([length_status, upper_status, lower_status, special_status, number_status]):\n",
    "        return 'Valid'\n",
    "    else:\n",
    "        return 'Invalid'\n",
    "            \n",
    "            "
   ]
  },
  {
   "cell_type": "code",
   "execution_count": 44,
   "id": "16fc4bb2",
   "metadata": {
    "scrolled": true
   },
   "outputs": [
    {
     "name": "stdout",
     "output_type": "stream",
     "text": [
      "Abc(jhy123\n",
      "Valid\n"
     ]
    }
   ],
   "source": [
    "value = input()\n",
    "print(password_check(value))"
   ]
  },
  {
   "cell_type": "code",
   "execution_count": 52,
   "id": "54b8fcc0",
   "metadata": {},
   "outputs": [
    {
     "data": {
      "text/plain": [
       "False"
      ]
     },
     "execution_count": 52,
     "metadata": {},
     "output_type": "execute_result"
    }
   ],
   "source": [
    "'DSOIJOINOaH'.isupper()"
   ]
  },
  {
   "cell_type": "code",
   "execution_count": 96,
   "id": "c1ae5a2d",
   "metadata": {},
   "outputs": [
    {
     "ename": "SyntaxError",
     "evalue": "invalid syntax (17746168.py, line 1)",
     "output_type": "error",
     "traceback": [
      "\u001b[1;36m  File \u001b[1;32m\"C:\\Users\\vkumbhakar\\AppData\\Local\\Temp\\ipykernel_14916\\17746168.py\"\u001b[1;36m, line \u001b[1;32m1\u001b[0m\n\u001b[1;33m    if for char in 'ahb$jhabc':\u001b[0m\n\u001b[1;37m       ^\u001b[0m\n\u001b[1;31mSyntaxError\u001b[0m\u001b[1;31m:\u001b[0m invalid syntax\n"
     ]
    }
   ],
   "source": [
    "for char in 'ahb$jhabc':\n",
    "    if char in '!@#$%^&*()':\n",
    "        break\n",
    "else:\n",
    "    print('no special char')"
   ]
  },
  {
   "cell_type": "code",
   "execution_count": 87,
   "id": "0075de6f",
   "metadata": {},
   "outputs": [],
   "source": [
    "import string\n",
    "# To check validity of password\n",
    "def check_password(password):\n",
    "    upper_status, lower_status, special_status, number_status = False, False, False, False\n",
    "    for char in password: \n",
    "        if char.isupper(): # upper case check\n",
    "            upper_status = True\n",
    "        elif char.islower(): # lower case check\n",
    "            lower_status = True\n",
    "        elif char in \"~!@#$%^&*()\": # special character check\n",
    "            special_status = True\n",
    "        elif char.isdigit(): # number check\n",
    "            number_status = True\n",
    "    if all([upper_status, lower_status, special_status, number_status, len(password)>=8]):\n",
    "        return 'Valid'\n",
    "    else:\n",
    "        return 'Invalid'"
   ]
  },
  {
   "cell_type": "code",
   "execution_count": 89,
   "id": "7a4fbfc3",
   "metadata": {},
   "outputs": [
    {
     "name": "stdout",
     "output_type": "stream",
     "text": [
      "Valid\n"
     ]
    }
   ],
   "source": [
    "print(check_password('abc%dS234'))"
   ]
  },
  {
   "cell_type": "code",
   "execution_count": 103,
   "id": "fbedc43c",
   "metadata": {},
   "outputs": [
    {
     "name": "stdout",
     "output_type": "stream",
     "text": [
      "2 \n",
      "4 6 \n",
      "8 10 12 \n",
      "14 16 18 20 \n"
     ]
    }
   ],
   "source": [
    "num = 0\n",
    "for i in range(4):\n",
    "    for j in range(i+1):\n",
    "        num += 2\n",
    "        print(num,end=' ')\n",
    "    print()"
   ]
  },
  {
   "cell_type": "code",
   "execution_count": 110,
   "id": "88557c22",
   "metadata": {},
   "outputs": [
    {
     "name": "stdout",
     "output_type": "stream",
     "text": [
      "        2 \n",
      "      4 6 \n",
      "    8 10 12 \n",
      "  14 16 18 20 \n"
     ]
    }
   ],
   "source": [
    "num = 0\n",
    "for i in range(4,0,-1):\n",
    "    for k in range(i):\n",
    "        print(' ',end=' ')\n",
    "    for j in range(4-k):\n",
    "        num += 2\n",
    "        print(num,end=' ')\n",
    "    print()"
   ]
  },
  {
   "cell_type": "code",
   "execution_count": 111,
   "id": "af882594",
   "metadata": {},
   "outputs": [
    {
     "name": "stdout",
     "output_type": "stream",
     "text": [
      "0 1 1 2 3 5 8 13 21 34\n"
     ]
    }
   ],
   "source": [
    "# Fibonacci Numbers\n",
    "a = 0\n",
    "b = 1\n",
    "fib = [a,b]\n",
    "for i in range(8):\n",
    "    c = a+b\n",
    "    a = b\n",
    "    b = c\n",
    "    fib.append(c)\n",
    "print(*fib)"
   ]
  },
  {
   "cell_type": "code",
   "execution_count": 137,
   "id": "a4655704",
   "metadata": {},
   "outputs": [],
   "source": [
    "def power(a,n):\n",
    "    if n==0:\n",
    "        return 1\n",
    "    if n==1:\n",
    "        return a\n",
    "    x = power(a,n-1)\n",
    "    print(x)\n",
    "    return a*x"
   ]
  },
  {
   "cell_type": "code",
   "execution_count": 138,
   "id": "cb37ea62",
   "metadata": {},
   "outputs": [
    {
     "name": "stdout",
     "output_type": "stream",
     "text": [
      "2\n",
      "4\n",
      "8\n",
      "16\n",
      "32\n",
      "64\n",
      "128\n",
      "256\n",
      "512\n",
      "1024\n"
     ]
    }
   ],
   "source": [
    "print(power(2,10))"
   ]
  },
  {
   "cell_type": "code",
   "execution_count": 140,
   "id": "a8c0f3ee",
   "metadata": {},
   "outputs": [
    {
     "name": "stdout",
     "output_type": "stream",
     "text": [
      "2 4 6 8 10 12 14 16 18 20 22 24 26 28 30 32 34 36 38 40 42 44 46 48 50 52 54 56 58 60 62 64 66 68 70 72 74 76 78 80 82 84 86 88 90 92 94 96 98 100 "
     ]
    }
   ],
   "source": [
    "for i in range(1,101):\n",
    "    if i%2==0:\n",
    "        print(i,end=' ')"
   ]
  },
  {
   "cell_type": "code",
   "execution_count": 146,
   "id": "ec0fd808",
   "metadata": {},
   "outputs": [
    {
     "name": "stdout",
     "output_type": "stream",
     "text": [
      "rakahbmuK lahsiV\n"
     ]
    }
   ],
   "source": [
    "name = 'Vishal Kumbhakar'\n",
    "print(name[::-1])"
   ]
  },
  {
   "cell_type": "code",
   "execution_count": 153,
   "id": "d9a4cdf1",
   "metadata": {},
   "outputs": [],
   "source": [
    "# divisible by 2,3,5\n",
    "def divisors(n):\n",
    "    for i in range(1,n):\n",
    "        if i%2==0 or i%3==0 or i%5==0:\n",
    "            print(i, end=' ')\n",
    "    "
   ]
  },
  {
   "cell_type": "code",
   "execution_count": 154,
   "id": "be75e162",
   "metadata": {},
   "outputs": [
    {
     "name": "stdout",
     "output_type": "stream",
     "text": [
      "2 3 4 5 6 8 9 "
     ]
    }
   ],
   "source": [
    "divisors(10)"
   ]
  },
  {
   "cell_type": "code",
   "execution_count": 155,
   "id": "26b42f77",
   "metadata": {},
   "outputs": [
    {
     "name": "stdout",
     "output_type": "stream",
     "text": [
      "{1, 2, 3, 4}\n"
     ]
    }
   ],
   "source": [
    "_list = [1,2,3,4,3,2,1,4]\n",
    "print(set(_list))"
   ]
  },
  {
   "cell_type": "code",
   "execution_count": 169,
   "id": "4245d79a",
   "metadata": {},
   "outputs": [
    {
     "name": "stdout",
     "output_type": "stream",
     "text": [
      "['abc', '9']\n"
     ]
    }
   ],
   "source": [
    "_stringlist = ['','abc','9','']\n",
    "for string in _stringlist:\n",
    "    if len(string)==0:\n",
    "        _stringlist.remove(string)\n",
    "print(_stringlist)"
   ]
  },
  {
   "cell_type": "code",
   "execution_count": 170,
   "id": "54ad9f6a",
   "metadata": {},
   "outputs": [
    {
     "name": "stdout",
     "output_type": "stream",
     "text": [
      "1\n",
      "4\n",
      "9\n",
      "16\n",
      "25\n"
     ]
    }
   ],
   "source": [
    "_list = [1,2,3,4,5]\n",
    "for i in _list:\n",
    "    print(i**2)"
   ]
  },
  {
   "cell_type": "code",
   "execution_count": 173,
   "id": "a5717f25",
   "metadata": {},
   "outputs": [
    {
     "name": "stdout",
     "output_type": "stream",
     "text": [
      "[0, 2, 4, 7, 9, 11]\n"
     ]
    }
   ],
   "source": [
    "_list1 = [0,1,2,3,4,5]\n",
    "_list2 = [6,7,8,9,10,11]\n",
    "_list3 = _list1[0::2]+_list2[1::2]\n",
    "print(_list3)"
   ]
  },
  {
   "cell_type": "code",
   "execution_count": 175,
   "id": "30d567e0",
   "metadata": {},
   "outputs": [
    {
     "name": "stdout",
     "output_type": "stream",
     "text": [
      "{1: 1, 2: 2, 3: 1, 4: 2}\n"
     ]
    }
   ],
   "source": [
    "_list = [1,2,3,4,4,2]\n",
    "_dict = {}\n",
    "for i in _list:\n",
    "    _dict[i] = _dict.get(i,0)+1\n",
    "print(_dict)"
   ]
  },
  {
   "cell_type": "code",
   "execution_count": 180,
   "id": "7232a192",
   "metadata": {},
   "outputs": [
    {
     "name": "stdout",
     "output_type": "stream",
     "text": [
      "(1, 2, 3, 4)\n",
      "1 4\n"
     ]
    }
   ],
   "source": [
    "_list = [1,2,3,4,4,2]\n",
    "_tuple = tuple(set(_list))\n",
    "print(_tuple)\n",
    "print(min(_tuple),max(_tuple))"
   ]
  },
  {
   "cell_type": "code",
   "execution_count": 185,
   "id": "0701dc48",
   "metadata": {},
   "outputs": [
    {
     "name": "stdout",
     "output_type": "stream",
     "text": [
      "120\n"
     ]
    }
   ],
   "source": [
    "def fact(n):\n",
    "    if n==0:\n",
    "        return 1\n",
    "    return n*fact(n-1)\n",
    "print(fact(5))"
   ]
  }
 ],
 "metadata": {
  "kernelspec": {
   "display_name": "Python 3 (ipykernel)",
   "language": "python",
   "name": "python3"
  },
  "language_info": {
   "codemirror_mode": {
    "name": "ipython",
    "version": 3
   },
   "file_extension": ".py",
   "mimetype": "text/x-python",
   "name": "python",
   "nbconvert_exporter": "python",
   "pygments_lexer": "ipython3",
   "version": "3.9.13"
  }
 },
 "nbformat": 4,
 "nbformat_minor": 5
}
